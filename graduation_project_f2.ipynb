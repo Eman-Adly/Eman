{
  "nbformat": 4,
  "nbformat_minor": 0,
  "metadata": {
    "colab": {
      "provenance": [],
      "authorship_tag": "ABX9TyOHBI65VgXufLv3328kIvR5",
      "include_colab_link": true
    },
    "kernelspec": {
      "name": "python3",
      "display_name": "Python 3"
    },
    "language_info": {
      "name": "python"
    }
  },
  "cells": [
    {
      "cell_type": "markdown",
      "metadata": {
        "id": "view-in-github",
        "colab_type": "text"
      },
      "source": [
        "<a href=\"https://colab.research.google.com/github/Eman-Adly/Eman/blob/main/graduation_project_f2.ipynb\" target=\"_parent\"><img src=\"https://colab.research.google.com/assets/colab-badge.svg\" alt=\"Open In Colab\"/></a>"
      ]
    },
    {
      "cell_type": "code",
      "execution_count": 1,
      "metadata": {
        "id": "0FQzhdZkffy0"
      },
      "outputs": [],
      "source": [
        "import torch\n",
        "import torch.nn as nn\n",
        "import torch.optim as optim\n",
        "from torch.utils.data import Dataset, DataLoader\n",
        "import pandas as pd\n",
        "import numpy as np"
      ]
    },
    {
      "cell_type": "code",
      "source": [
        "file_path = \"/content/merged_library_data.csv\"\n",
        "merged_df = pd.read_csv(file_path)"
      ],
      "metadata": {
        "id": "qTcD0esekGA_"
      },
      "execution_count": 17,
      "outputs": []
    },
    {
      "cell_type": "code",
      "source": [
        "if \"User_ID\" not in merged_df.columns or \"Book_ID\" not in merged_df.columns or \"Rating\" not in merged_df.columns:\n",
        "    raise ValueError(\"الملف لا يحتوي على الأعمدة المطلوبة: User_ID, Book_ID, Rating\")"
      ],
      "metadata": {
        "id": "UP3PWUTNnglO"
      },
      "execution_count": 18,
      "outputs": []
    },
    {
      "cell_type": "code",
      "source": [
        "merged_df.dropna(subset=[\"User_ID\", \"Book_ID\", \"Rating\"], inplace=True)"
      ],
      "metadata": {
        "id": "b5LqWBXznpg8"
      },
      "execution_count": 19,
      "outputs": []
    },
    {
      "cell_type": "code",
      "source": [
        "# تحويل معرفات المستخدمين والكتب إلى أرقام تسلسلية\n",
        "user_mapping = {user: idx for idx, user in enumerate(merged_df[\"User_ID\"].unique())}\n",
        "book_mapping = {book: idx for idx, book in enumerate(merged_df[\"Book_ID\"].unique())}\n",
        "merged_df[\"User_ID\"] = merged_df[\"User_ID\"].map(user_mapping)\n",
        "merged_df[\"Book_ID\"] = merged_df[\"Book_ID\"].map(book_mapping)"
      ],
      "metadata": {
        "id": "AUxNG0WUkW2z"
      },
      "execution_count": 3,
      "outputs": []
    },
    {
      "cell_type": "code",
      "source": [
        "# تعريف Dataset مخصص\n",
        "class BookDataset(Dataset):\n",
        "    def __init__(self, df):\n",
        "        self.users = torch.tensor(df[\"User_ID\"].values, dtype=torch.long)\n",
        "        self.books = torch.tensor(df[\"Book_ID\"].values, dtype=torch.long)\n",
        "        self.ratings = torch.tensor(df[\"Rating\"].values, dtype=torch.float32)\n",
        "\n",
        "    def __len__(self):\n",
        "        return len(self.ratings)\n",
        "\n",
        "    def __getitem__(self, idx):\n",
        "        return self.users[idx], self.books[idx], self.ratings[idx]"
      ],
      "metadata": {
        "id": "uH0lh_TAkb9K"
      },
      "execution_count": 4,
      "outputs": []
    },
    {
      "cell_type": "code",
      "source": [
        "# إنشاء DataLoader\n",
        "dataset = BookDataset(merged_df)\n",
        "dataloader = DataLoader(dataset, batch_size=64, shuffle=True)"
      ],
      "metadata": {
        "id": "Jsy6lYJLkhZX"
      },
      "execution_count": 5,
      "outputs": []
    },
    {
      "cell_type": "code",
      "source": [
        "# تعريف نموذج NCF\n",
        "class NCF(nn.Module):\n",
        "    def __init__(self, num_users, num_books, embedding_dim=8):\n",
        "        super(NCF, self).__init__()\n",
        "        self.user_embedding = nn.Embedding(num_users, embedding_dim)\n",
        "        self.book_embedding = nn.Embedding(num_books, embedding_dim)\n",
        "        self.fc_layers = nn.Sequential(\n",
        "            nn.Linear(embedding_dim * 2, 64),\n",
        "            nn.ReLU(),\n",
        "            nn.Linear(64, 32),\n",
        "            nn.ReLU(),\n",
        "            nn.Linear(32, 1)\n",
        "        )\n",
        "\n",
        "    def forward(self, user, book):\n",
        "        user_embedded = self.user_embedding(user)\n",
        "        book_embedded = self.book_embedding(book)\n",
        "        concat = torch.cat([user_embedded, book_embedded], dim=-1)\n",
        "        rating_pred = self.fc_layers(concat)\n",
        "        return rating_pred.squeeze()"
      ],
      "metadata": {
        "id": "yqu2nuDEko8o"
      },
      "execution_count": 6,
      "outputs": []
    },
    {
      "cell_type": "code",
      "source": [
        "# تهيئة النموذج\n",
        "num_users = len(user_mapping)\n",
        "num_books = len(book_mapping)\n",
        "model = NCF(num_users, num_books)"
      ],
      "metadata": {
        "id": "ihn282J4kt6Q"
      },
      "execution_count": 7,
      "outputs": []
    },
    {
      "cell_type": "code",
      "source": [
        "# تعريف دالة الفقد والمُحسّن\n",
        "criterion = nn.MSELoss()\n",
        "optimizer = optim.Adam(model.parameters(), lr=0.01)"
      ],
      "metadata": {
        "id": "WqrSVT20kydH"
      },
      "execution_count": 8,
      "outputs": []
    },
    {
      "cell_type": "code",
      "source": [
        "# تدريب النموذج\n",
        "num_epochs = 10\n",
        "for epoch in range(num_epochs):\n",
        "    total_loss = 0\n",
        "    for users, books, ratings in dataloader:\n",
        "        optimizer.zero_grad()\n",
        "        predictions = model(users, books)\n",
        "        loss = criterion(predictions, ratings)\n",
        "        loss.backward()\n",
        "        optimizer.step()\n",
        "        total_loss += loss.item()\n",
        "    print(f\"Epoch {epoch+1}/{num_epochs}, Loss: {total_loss/len(dataloader):.4f}\")"
      ],
      "metadata": {
        "colab": {
          "base_uri": "https://localhost:8080/"
        },
        "id": "AdDjKN6Hk32L",
        "outputId": "b00c0f48-ac70-469e-f758-1a1b0b559253"
      },
      "execution_count": 20,
      "outputs": [
        {
          "output_type": "stream",
          "name": "stdout",
          "text": [
            "Epoch 1/10, Loss: 1.6156\n",
            "Epoch 2/10, Loss: 1.5732\n",
            "Epoch 3/10, Loss: 1.4854\n",
            "Epoch 4/10, Loss: 1.4654\n",
            "Epoch 5/10, Loss: 1.4019\n",
            "Epoch 6/10, Loss: 1.3181\n",
            "Epoch 7/10, Loss: 1.2710\n",
            "Epoch 8/10, Loss: 1.1889\n",
            "Epoch 9/10, Loss: 1.1389\n",
            "Epoch 10/10, Loss: 1.0991\n"
          ]
        }
      ]
    },
    {
      "cell_type": "code",
      "source": [
        "# دالة توصية الكتب لمستخدم معين\n",
        "def recommend_books(user_id, num_recommendations=5):\n",
        "    if user_id not in user_mapping:\n",
        "        return \"User not found\"\n",
        "\n",
        "    user_idx = torch.tensor(user_mapping[user_id], dtype=torch.long)\n",
        "    book_indices = torch.tensor(list(book_mapping.values()), dtype=torch.long)\n",
        "    predictions = model(user_idx.expand(len(book_indices)), book_indices).detach().numpy()\n",
        "\n",
        "    book_scores = {book: score for book, score in zip(book_mapping.keys(), predictions)}\n",
        "    recommended_books = sorted(book_scores, key=book_scores.get, reverse=True)[:num_recommendations]\n",
        "\n",
        "    return merged_df[merged_df['Book_ID'].isin(recommended_books)][[\"Book_ID\", \"Title\", \"Author\"]].drop_duplicates()"
      ],
      "metadata": {
        "id": "_kvKSLIOlGoy"
      },
      "execution_count": 21,
      "outputs": []
    },
    {
      "cell_type": "code",
      "source": [
        "print(recommend_books(user_id=20))\n"
      ],
      "metadata": {
        "colab": {
          "base_uri": "https://localhost:8080/"
        },
        "id": "SffxsIjVlNZY",
        "outputId": "f501aa25-5aa0-469d-d6f8-c07aec677e0d"
      },
      "execution_count": 22,
      "outputs": [
        {
          "output_type": "stream",
          "name": "stdout",
          "text": [
            "    Book_ID                   Title        Author\n",
            "36     B041      The Quest of Quest  Casey Taylor\n",
            "99     B103  The Shadows of Mystery     Alex Hall\n",
            "307    B080     The Future of Dream     Quinn Lee\n",
            "607    B036  The Shadows of Shadows     Riley Lee\n",
            "623    B181    The Shadows of Dream  Morgan Smith\n"
          ]
        }
      ]
    },
    {
      "cell_type": "code",
      "source": [
        "print(recommend_books(user_id=5))\n"
      ],
      "metadata": {
        "colab": {
          "base_uri": "https://localhost:8080/"
        },
        "outputId": "20b6fce4-fdb8-4b39-9f95-19bcbe7c9f53",
        "id": "J-GOBKXkmFon"
      },
      "execution_count": 23,
      "outputs": [
        {
          "output_type": "stream",
          "name": "stdout",
          "text": [
            "    Book_ID                   Title          Author\n",
            "148    B064  The Mystery of Mystery  Skyler Johnson\n",
            "162    B053     The Future of Dream     Quinn Smith\n",
            "183    B069   The Journey of Legacy  Quinn Anderson\n",
            "427    B157    The Dream of Journey    Alex Johnson\n",
            "607    B036  The Shadows of Shadows       Riley Lee\n"
          ]
        }
      ]
    },
    {
      "cell_type": "code",
      "source": [
        "print(recommend_books(user_id=40))\n"
      ],
      "metadata": {
        "colab": {
          "base_uri": "https://localhost:8080/"
        },
        "outputId": "40008478-5e9b-41c1-ecfa-9a9ab840f2f7",
        "id": "3Mwr9sVVoQ3y"
      },
      "execution_count": 24,
      "outputs": [
        {
          "output_type": "stream",
          "name": "stdout",
          "text": [
            "    Book_ID                     Title         Author\n",
            "16     B005  The Future of Adventures     Skyler Lee\n",
            "99     B103    The Shadows of Mystery      Alex Hall\n",
            "160    B173    The Shadows of Shadows   Skyler Clark\n",
            "236    B166       The Quest of Future  Taylor Walker\n",
            "607    B036    The Shadows of Shadows      Riley Lee\n"
          ]
        }
      ]
    },
    {
      "cell_type": "code",
      "source": [
        "print(recommend_books(user_id=30))\n"
      ],
      "metadata": {
        "colab": {
          "base_uri": "https://localhost:8080/"
        },
        "outputId": "2f3c35c5-f69f-426d-c8b1-e64e52a84f6f",
        "id": "c7TOY6MLoxW4"
      },
      "execution_count": 25,
      "outputs": [
        {
          "output_type": "stream",
          "name": "stdout",
          "text": [
            "    Book_ID                         Title        Author\n",
            "99     B103        The Shadows of Mystery     Alex Hall\n",
            "107    B146  The Adventures of Adventures  Taylor Brown\n",
            "200    B031      The Adventures of Legacy  Morgan Brown\n",
            "209    B109      The Chronicles of Future   Casey Clark\n",
            "629    B006  The Chronicles of Chronicles  Skyler Smith\n"
          ]
        }
      ]
    },
    {
      "cell_type": "code",
      "source": [],
      "metadata": {
        "id": "swPqG5_Pozfs"
      },
      "execution_count": null,
      "outputs": []
    }
  ]
}